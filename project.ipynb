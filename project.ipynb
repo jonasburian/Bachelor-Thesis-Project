{
 "cells": [
  {
   "cell_type": "code",
   "execution_count": 31,
   "id": "1b4b0800",
   "metadata": {},
   "outputs": [],
   "source": [
    "import os\n",
    "import wfdb\n",
    "import numpy as np\n",
    "import pandas as pd\n",
    "import matplotlib.pyplot as plt\n",
    "\n",
    "import torch\n",
    "import torch.nn as nn\n",
    "import torch.nn.functional as F\n",
    "\n",
    "from skimage.restoration import denoise_wavelet"
   ]
  },
  {
   "cell_type": "code",
   "execution_count": 67,
   "id": "2f4d38a7",
   "metadata": {},
   "outputs": [],
   "source": [
    "data_directory = \"./data/CEBS/m001\"\n",
    "sampling_rate = '1S'\n",
    "target_snr_db = 3"
   ]
  },
  {
   "cell_type": "code",
   "execution_count": 33,
   "id": "7205d4cb",
   "metadata": {},
   "outputs": [],
   "source": [
    "def signaltonoise_dB(signal_clean, signal_noisy):\n",
    "    signal_clean_watts = signal_clean ** 2\n",
    "    signal_clean_avg_watts = np.mean(signal_clean_watts)\n",
    "    signal_clean_avg_db = 10 * np.log10(signal_clean_avg_watts)\n",
    "\n",
    "    noise = signal_noisy - signal_clean\n",
    "    noise_watts = noise ** 2\n",
    "    noise_avg_watts = np.mean(noise_watts)\n",
    "    noise_avg_db = 10 * np.log10(noise_avg_watts)\n",
    "\n",
    "    return signal_clean_avg_db - noise_avg_db"
   ]
  },
  {
   "cell_type": "code",
   "execution_count": 34,
   "id": "d7d0196c",
   "metadata": {},
   "outputs": [],
   "source": [
    "def load_dataset(directory):\n",
    "    record = wfdb.rdsamp(directory)\n",
    "    data = record[0]\n",
    "    metadata = record[1]\n",
    "\n",
    "    frequency = metadata['fs']\n",
    "    column_names = metadata['sig_name']\n",
    "    length = metadata['sig_len']\n",
    "\n",
    "    data = pd.DataFrame(data, columns=column_names)\n",
    "\n",
    "    frequency_string = str(int(1/frequency*1000000)) + 'U'\n",
    "    index = pd.date_range(start='1/1/1970', periods=length, freq=frequency_string)\n",
    "    data.set_index(index, inplace=True)\n",
    "    data.drop(['I', 'II', 'RESP'], axis=1, inplace=True)\n",
    "    \n",
    "    return data"
   ]
  },
  {
   "cell_type": "code",
   "execution_count": 35,
   "id": "46e9a7aa",
   "metadata": {},
   "outputs": [],
   "source": [
    "def add_gaussian(data, target_snr_db):\n",
    "    data_watts = data ** 2\n",
    "    data_avg_watts = np.mean(data_watts)\n",
    "    data_avg_db = 10 * np.log10(data_avg_watts)\n",
    "\n",
    "    noise_avg_db = data_avg_db - target_snr_db\n",
    "    noise_avg_watts = 10 ** (noise_avg_db / 10)\n",
    "\n",
    "    mean_noise = 0\n",
    "    noise = np.random.normal(mean_noise, np.sqrt(noise_avg_watts), len(data_watts))\n",
    "\n",
    "    data_noisy = data + noise\n",
    "    return data_noisy"
   ]
  },
  {
   "cell_type": "code",
   "execution_count": 68,
   "id": "ba01cc41",
   "metadata": {},
   "outputs": [],
   "source": [
    "class DeNoise(nn.Module):\n",
    "    def __init__(self):\n",
    "        super(DeNoise, self).__init__()\n",
    "\n",
    "        self.lin1 = nn.Linear(600, 400)\n",
    "        self.lin_t1 = nn.Linear(400, 600)\n",
    "\n",
    "    def forward(self, x):\n",
    "        x = torch.tanh(self.lin1(x))\n",
    "        x = self.lin_t1(x)\n",
    "        return x"
   ]
  },
  {
   "cell_type": "code",
   "execution_count": 70,
   "id": "3e0cc68f",
   "metadata": {},
   "outputs": [
    {
     "data": {
      "text/plain": [
       "'\\nprint(signaltonoise_dB(data.clean, data.clean))\\nprint(signaltonoise_dB(data.clean, data.noise))\\nprint(signaltonoise_dB(data.clean, data.denoised))\\n\\ndata.clean[:180].plot()\\nplt.show()\\ndata.noise[:180].plot()\\nplt.show()\\ndata.denoised[:180].plot()\\nplt.show()\\n'"
      ]
     },
     "execution_count": 70,
     "metadata": {},
     "output_type": "execute_result"
    }
   ],
   "source": [
    "data = load_dataset(data_directory)\n",
    "data = data.resample(sampling_rate).mean().SCG\n",
    "\n",
    "data_noisy = add_gaussian(data, target_snr_db)\n",
    "\n",
    "data = pd.DataFrame({'clean': data, 'noise': data_noisy})\n",
    "denoised = denoise_wavelet(data.noise, method='BayesShrink', mode='soft', wavelet_levels=1, wavelet='sym8', rescale_sigma='True')\n",
    "data['denoised'] = denoised\n",
    "\n",
    "data_groups = data.groupby((data.index - data.index[0]).total_seconds() // 600) # 600 sec\n",
    "\n",
    "\"\"\"\n",
    "print(signaltonoise_dB(data.clean, data.clean))\n",
    "print(signaltonoise_dB(data.clean, data.noise))\n",
    "print(signaltonoise_dB(data.clean, data.denoised))\n",
    "\n",
    "data.clean[:180].plot()\n",
    "plt.show()\n",
    "data.noise[:180].plot()\n",
    "plt.show()\n",
    "data.denoised[:180].plot()\n",
    "plt.show()\n",
    "\"\"\""
   ]
  },
  {
   "cell_type": "code",
   "execution_count": 72,
   "id": "1c7816ec",
   "metadata": {},
   "outputs": [
    {
     "name": "stdout",
     "output_type": "stream",
     "text": [
      "epoch 10 / 100, loss = 0.0294\n",
      "epoch 10 / 100, loss = 0.0272\n",
      "epoch 10 / 100, loss = 0.0244\n",
      "epoch 10 / 100, loss = 0.0242\n",
      "epoch 20 / 100, loss = 0.0294\n",
      "epoch 20 / 100, loss = 0.0272\n",
      "epoch 20 / 100, loss = 0.0244\n",
      "epoch 20 / 100, loss = 0.0242\n",
      "epoch 30 / 100, loss = 0.0294\n",
      "epoch 30 / 100, loss = 0.0272\n",
      "epoch 30 / 100, loss = 0.0244\n",
      "epoch 30 / 100, loss = 0.0242\n",
      "epoch 40 / 100, loss = 0.0294\n",
      "epoch 40 / 100, loss = 0.0272\n",
      "epoch 40 / 100, loss = 0.0244\n",
      "epoch 40 / 100, loss = 0.0242\n",
      "epoch 50 / 100, loss = 0.0294\n",
      "epoch 50 / 100, loss = 0.0272\n",
      "epoch 50 / 100, loss = 0.0244\n",
      "epoch 50 / 100, loss = 0.0242\n",
      "epoch 60 / 100, loss = 0.0294\n",
      "epoch 60 / 100, loss = 0.0272\n",
      "epoch 60 / 100, loss = 0.0244\n",
      "epoch 60 / 100, loss = 0.0242\n",
      "epoch 70 / 100, loss = 0.0294\n",
      "epoch 70 / 100, loss = 0.0272\n",
      "epoch 70 / 100, loss = 0.0244\n",
      "epoch 70 / 100, loss = 0.0242\n",
      "epoch 80 / 100, loss = 0.0294\n",
      "epoch 80 / 100, loss = 0.0272\n",
      "epoch 80 / 100, loss = 0.0244\n",
      "epoch 80 / 100, loss = 0.0242\n",
      "epoch 90 / 100, loss = 0.0294\n",
      "epoch 90 / 100, loss = 0.0272\n",
      "epoch 90 / 100, loss = 0.0244\n",
      "epoch 90 / 100, loss = 0.0242\n",
      "epoch 100 / 100, loss = 0.0294\n",
      "epoch 100 / 100, loss = 0.0272\n",
      "epoch 100 / 100, loss = 0.0244\n",
      "epoch 100 / 100, loss = 0.0242\n"
     ]
    }
   ],
   "source": [
    "def train(n_epochs, model):\n",
    "    training_loss = []\n",
    "    group_size = data_groups.size()[0]\n",
    "    \n",
    "    for epoch in range(n_epochs):\n",
    "        trainloss = 0.0\n",
    "        for _, dat in data_groups:\n",
    "            \n",
    "            if dat.shape[0] != group_size:\n",
    "                continue\n",
    "\n",
    "            sig = torch.Tensor(dat.clean)\n",
    "            noise = torch.Tensor(dat.noise)\n",
    "            \n",
    "            optimizer.zero_grad()\n",
    "            output = model(noise)\n",
    "            loss = criterion(output, sig)\n",
    "            loss.backward()\n",
    "            optimizer.step()\n",
    "            trainloss += loss.item()\n",
    "\n",
    "            if (epoch + 1) % 10 == 0:\n",
    "                print(f'epoch {epoch + 1} / {n_epochs}, loss = {loss.item():.4f}')\n",
    "\n",
    "        training_loss.append(trainloss / data.shape[0])\n",
    "\n",
    "model = DeNoise()\n",
    "train(100, model)"
   ]
  }
 ],
 "metadata": {
  "kernelspec": {
   "display_name": "Python 3.10.6 ('thesis-project-iJTh5vgr')",
   "language": "python",
   "name": "python3"
  },
  "language_info": {
   "codemirror_mode": {
    "name": "ipython",
    "version": 3
   },
   "file_extension": ".py",
   "mimetype": "text/x-python",
   "name": "python",
   "nbconvert_exporter": "python",
   "pygments_lexer": "ipython3",
   "version": "3.10.6"
  },
  "vscode": {
   "interpreter": {
    "hash": "5358558d97acbe0e10b27ba4ce90186e9cdab3f70950976f7d22547e5a6890e1"
   }
  }
 },
 "nbformat": 4,
 "nbformat_minor": 5
}
